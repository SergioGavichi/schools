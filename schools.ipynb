{
 "cells": [
  {
   "cell_type": "markdown",
   "metadata": {},
   "source": [
    "# Project: Any Reasons to change my daughter's school? "
   ]
  },
  {
   "cell_type": "markdown",
   "metadata": {},
   "source": [
    "This is the notebook associated with the ....blabla cf project description\n",
    "dictionary link - cf word"
   ]
  },
  {
   "cell_type": "markdown",
   "metadata": {},
   "source": [
    "### Imports"
   ]
  },
  {
   "cell_type": "code",
   "execution_count": 1,
   "metadata": {},
   "outputs": [],
   "source": [
    "# Import libraries necessary for this project\n",
    "import numpy as np\n",
    "import pandas as pd\n",
    "%matplotlib inline"
   ]
  },
  {
   "cell_type": "markdown",
   "metadata": {},
   "source": [
    "### Load the data"
   ]
  },
  {
   "cell_type": "code",
   "execution_count": 10,
   "metadata": {},
   "outputs": [],
   "source": [
    "df = pd.read_csv('fr-en-resultats-detailles-au-dnb.csv', sep=';')"
   ]
  },
  {
   "cell_type": "code",
   "execution_count": 11,
   "metadata": {},
   "outputs": [
    {
     "data": {
      "text/plain": [
       "(1471, 20)"
      ]
     },
     "execution_count": 11,
     "metadata": {},
     "output_type": "execute_result"
    }
   ],
   "source": [
    "df.shape"
   ]
  },
  {
   "cell_type": "code",
   "execution_count": 12,
   "metadata": {},
   "outputs": [
    {
     "name": "stdout",
     "output_type": "stream",
     "text": [
      "<class 'pandas.core.frame.DataFrame'>\n",
      "RangeIndex: 1471 entries, 0 to 1470\n",
      "Data columns (total 20 columns):\n",
      "année                              1471 non-null int64\n",
      "académie                           1471 non-null object\n",
      "code région                        1471 non-null int64\n",
      "libellé région                     1471 non-null object\n",
      "âge                                1471 non-null object\n",
      "série                              1471 non-null object\n",
      "inscrits                           1471 non-null int64\n",
      "présents                           1471 non-null int64\n",
      "admis                              1471 non-null int64\n",
      "admis sans mention                 1471 non-null int64\n",
      "admis mention assez bien           1471 non-null int64\n",
      "admis mention bien                 1471 non-null int64\n",
      "admis mention très bien            1471 non-null int64\n",
      "inscrits filles                    1471 non-null int64\n",
      "présents filles                    1471 non-null int64\n",
      "admis filles                       1471 non-null int64\n",
      "admis sans mention filles          1471 non-null int64\n",
      "admis mention assez bien filles    1471 non-null int64\n",
      "admis mention bien filles          1471 non-null int64\n",
      "admis mention très bien filles     1471 non-null int64\n",
      "dtypes: int64(16), object(4)\n",
      "memory usage: 229.9+ KB\n"
     ]
    }
   ],
   "source": [
    "df.info()"
   ]
  },
  {
   "cell_type": "code",
   "execution_count": 14,
   "metadata": {},
   "outputs": [
    {
     "data": {
      "text/html": [
       "<div>\n",
       "<style scoped>\n",
       "    .dataframe tbody tr th:only-of-type {\n",
       "        vertical-align: middle;\n",
       "    }\n",
       "\n",
       "    .dataframe tbody tr th {\n",
       "        vertical-align: top;\n",
       "    }\n",
       "\n",
       "    .dataframe thead th {\n",
       "        text-align: right;\n",
       "    }\n",
       "</style>\n",
       "<table border=\"1\" class=\"dataframe\">\n",
       "  <thead>\n",
       "    <tr style=\"text-align: right;\">\n",
       "      <th></th>\n",
       "      <th>année</th>\n",
       "      <th>académie</th>\n",
       "      <th>code région</th>\n",
       "      <th>libellé région</th>\n",
       "      <th>âge</th>\n",
       "      <th>série</th>\n",
       "      <th>inscrits</th>\n",
       "      <th>présents</th>\n",
       "      <th>admis</th>\n",
       "      <th>admis sans mention</th>\n",
       "      <th>admis mention assez bien</th>\n",
       "      <th>admis mention bien</th>\n",
       "      <th>admis mention très bien</th>\n",
       "      <th>inscrits filles</th>\n",
       "      <th>présents filles</th>\n",
       "      <th>admis filles</th>\n",
       "      <th>admis sans mention filles</th>\n",
       "      <th>admis mention assez bien filles</th>\n",
       "      <th>admis mention bien filles</th>\n",
       "      <th>admis mention très bien filles</th>\n",
       "    </tr>\n",
       "  </thead>\n",
       "  <tbody>\n",
       "    <tr>\n",
       "      <th>0</th>\n",
       "      <td>2013</td>\n",
       "      <td>DIJON</td>\n",
       "      <td>27</td>\n",
       "      <td>Bourgogne-et-Franche-Comté</td>\n",
       "      <td>17 ans ou plus</td>\n",
       "      <td>SERIE GENERALE</td>\n",
       "      <td>258</td>\n",
       "      <td>236</td>\n",
       "      <td>131</td>\n",
       "      <td>95</td>\n",
       "      <td>31</td>\n",
       "      <td>5</td>\n",
       "      <td>0</td>\n",
       "      <td>118</td>\n",
       "      <td>108</td>\n",
       "      <td>58</td>\n",
       "      <td>43</td>\n",
       "      <td>14</td>\n",
       "      <td>1</td>\n",
       "      <td>0</td>\n",
       "    </tr>\n",
       "    <tr>\n",
       "      <th>1</th>\n",
       "      <td>2013</td>\n",
       "      <td>POITIERS</td>\n",
       "      <td>75</td>\n",
       "      <td>Nouvelle-Aquitaine</td>\n",
       "      <td>15 ans ou moins</td>\n",
       "      <td>SERIE GENERALE</td>\n",
       "      <td>14425</td>\n",
       "      <td>14397</td>\n",
       "      <td>13276</td>\n",
       "      <td>3501</td>\n",
       "      <td>4311</td>\n",
       "      <td>3500</td>\n",
       "      <td>1964</td>\n",
       "      <td>7608</td>\n",
       "      <td>7595</td>\n",
       "      <td>7098</td>\n",
       "      <td>1703</td>\n",
       "      <td>2215</td>\n",
       "      <td>1935</td>\n",
       "      <td>1245</td>\n",
       "    </tr>\n",
       "    <tr>\n",
       "      <th>2</th>\n",
       "      <td>2013</td>\n",
       "      <td>NANTES</td>\n",
       "      <td>52</td>\n",
       "      <td>Pays-de-la-Loire</td>\n",
       "      <td>15 ans ou moins</td>\n",
       "      <td>SERIE GENERALE</td>\n",
       "      <td>32759</td>\n",
       "      <td>32671</td>\n",
       "      <td>30070</td>\n",
       "      <td>7129</td>\n",
       "      <td>10242</td>\n",
       "      <td>8486</td>\n",
       "      <td>4213</td>\n",
       "      <td>17026</td>\n",
       "      <td>16982</td>\n",
       "      <td>15907</td>\n",
       "      <td>3339</td>\n",
       "      <td>5104</td>\n",
       "      <td>4776</td>\n",
       "      <td>2688</td>\n",
       "    </tr>\n",
       "    <tr>\n",
       "      <th>3</th>\n",
       "      <td>2013</td>\n",
       "      <td>ORLEANS-TOURS</td>\n",
       "      <td>24</td>\n",
       "      <td>Centre-Val-de-Loire</td>\n",
       "      <td>16 ans</td>\n",
       "      <td>SERIE GENERALE</td>\n",
       "      <td>4835</td>\n",
       "      <td>4656</td>\n",
       "      <td>2741</td>\n",
       "      <td>2096</td>\n",
       "      <td>534</td>\n",
       "      <td>97</td>\n",
       "      <td>14</td>\n",
       "      <td>2229</td>\n",
       "      <td>2154</td>\n",
       "      <td>1346</td>\n",
       "      <td>1006</td>\n",
       "      <td>271</td>\n",
       "      <td>61</td>\n",
       "      <td>8</td>\n",
       "    </tr>\n",
       "    <tr>\n",
       "      <th>4</th>\n",
       "      <td>2013</td>\n",
       "      <td>LILLE</td>\n",
       "      <td>32</td>\n",
       "      <td>Hauts-de-France</td>\n",
       "      <td>15 ans ou moins</td>\n",
       "      <td>SERIE GENERALE</td>\n",
       "      <td>36893</td>\n",
       "      <td>36656</td>\n",
       "      <td>33371</td>\n",
       "      <td>11056</td>\n",
       "      <td>9705</td>\n",
       "      <td>7829</td>\n",
       "      <td>4781</td>\n",
       "      <td>19137</td>\n",
       "      <td>19027</td>\n",
       "      <td>17705</td>\n",
       "      <td>5453</td>\n",
       "      <td>5036</td>\n",
       "      <td>4251</td>\n",
       "      <td>2965</td>\n",
       "    </tr>\n",
       "  </tbody>\n",
       "</table>\n",
       "</div>"
      ],
      "text/plain": [
       "   année       académie  code région              libellé région  \\\n",
       "0   2013          DIJON           27  Bourgogne-et-Franche-Comté   \n",
       "1   2013       POITIERS           75          Nouvelle-Aquitaine   \n",
       "2   2013         NANTES           52            Pays-de-la-Loire   \n",
       "3   2013  ORLEANS-TOURS           24         Centre-Val-de-Loire   \n",
       "4   2013          LILLE           32             Hauts-de-France   \n",
       "\n",
       "               âge           série  inscrits  présents  admis  \\\n",
       "0   17 ans ou plus  SERIE GENERALE       258       236    131   \n",
       "1  15 ans ou moins  SERIE GENERALE     14425     14397  13276   \n",
       "2  15 ans ou moins  SERIE GENERALE     32759     32671  30070   \n",
       "3           16 ans  SERIE GENERALE      4835      4656   2741   \n",
       "4  15 ans ou moins  SERIE GENERALE     36893     36656  33371   \n",
       "\n",
       "   admis sans mention  admis mention assez bien  admis mention bien  \\\n",
       "0                  95                        31                   5   \n",
       "1                3501                      4311                3500   \n",
       "2                7129                     10242                8486   \n",
       "3                2096                       534                  97   \n",
       "4               11056                      9705                7829   \n",
       "\n",
       "   admis mention très bien  inscrits filles  présents filles  admis filles  \\\n",
       "0                        0              118              108            58   \n",
       "1                     1964             7608             7595          7098   \n",
       "2                     4213            17026            16982         15907   \n",
       "3                       14             2229             2154          1346   \n",
       "4                     4781            19137            19027         17705   \n",
       "\n",
       "   admis sans mention filles  admis mention assez bien filles  \\\n",
       "0                         43                               14   \n",
       "1                       1703                             2215   \n",
       "2                       3339                             5104   \n",
       "3                       1006                              271   \n",
       "4                       5453                             5036   \n",
       "\n",
       "   admis mention bien filles  admis mention très bien filles  \n",
       "0                          1                               0  \n",
       "1                       1935                            1245  \n",
       "2                       4776                            2688  \n",
       "3                         61                               8  \n",
       "4                       4251                            2965  "
      ]
     },
     "execution_count": 14,
     "metadata": {},
     "output_type": "execute_result"
    }
   ],
   "source": [
    "df.head(5)"
   ]
  },
  {
   "cell_type": "code",
   "execution_count": 15,
   "metadata": {},
   "outputs": [
    {
     "data": {
      "text/plain": [
       "(array(['O', 'i'], dtype='<U1'), array([ 4, 16], dtype=int64))"
      ]
     },
     "execution_count": 15,
     "metadata": {},
     "output_type": "execute_result"
    }
   ],
   "source": [
    "kinds = np.array([dt.kind for dt in df.dtypes])\n",
    "np.unique(kinds, return_counts=True)"
   ]
  }
 ],
 "metadata": {
  "kernelspec": {
   "display_name": "Python 3",
   "language": "python",
   "name": "python3"
  },
  "language_info": {
   "codemirror_mode": {
    "name": "ipython",
    "version": 3
   },
   "file_extension": ".py",
   "mimetype": "text/x-python",
   "name": "python",
   "nbconvert_exporter": "python",
   "pygments_lexer": "ipython3",
   "version": "3.7.1"
  }
 },
 "nbformat": 4,
 "nbformat_minor": 2
}
